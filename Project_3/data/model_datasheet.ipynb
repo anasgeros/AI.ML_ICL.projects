{
 "cells": [
  {
   "cell_type": "markdown",
   "metadata": {},
   "source": [
    "# Model Datasheet"
   ]
  },
  {
   "cell_type": "markdown",
   "metadata": {},
   "source": [
    "## 1. Motivation"
   ]
  },
  {
   "cell_type": "markdown",
   "metadata": {},
   "source": [
    "-\tDataset purpose:\n",
    "\n",
    "This dataset was created to assist data scientists and/or machine learning researchers in tasks of unsupervised training of deep generative models."
   ]
  },
  {
   "cell_type": "markdown",
   "metadata": {},
   "source": [
    "- Source:\n",
    "\n",
    "The dataset was created by groups at MIT and NYU (Antonio Torralba et al 2008, the original paper can be found at https://ieeexplore.ieee.org/document/4531741). Later on it was re-employed by Alex Krizhevsky, Vinod Nair, and Geoffrey Hinton.\n",
    "\n",
    "Funding for this research was provided by NGA NEGI-1582-04-0004, Shell Research, Google, ONR MURI Grant N00014-06-\n",
    "1-0734, and NSF Career award (IIS0747120)."
   ]
  },
  {
   "cell_type": "markdown",
   "metadata": {},
   "source": [
    "## 2. Composition"
   ]
  },
  {
   "cell_type": "markdown",
   "metadata": {},
   "source": [
    "- Type of data:\n",
    "\n",
    "Data is comprised of low-resolution images collected from the Web. These are divided into 20 superclasses: aquatic mammals, fish\n",
    "flowers, food containers, fruit and vegetables, household electrical devices, household furniture, insects, large carnivores, large man-made outdoor things, large natural outdoor scenes, large omnivores/herbivores, mid-size mammals, non-insect invertebrates, people, reptiles, small mammals, trees, vehicles 1 and vehicles 2."
   ]
  },
  {
   "cell_type": "markdown",
   "metadata": {},
   "source": [
    "- Stats:\n",
    "\n",
    "There are 79,302,017 low-resolution images extracted from the web, 32x32 px. Sampling method is random and based on keyword search."
   ]
  },
  {
   "cell_type": "markdown",
   "metadata": {},
   "source": [
    "- Labels:\n",
    "\n",
    "Each image is loosely labeled with one of 75,062 English nouns, so the dataset covers a very large number of visual object classes."
   ]
  },
  {
   "cell_type": "markdown",
   "metadata": {},
   "source": [
    "- Subgroups:\n",
    "\n",
    "Data can be divided in 5 more categories within the 20 superclasses: \n",
    "\n",
    "1. aquatic mammals:\n",
    "• beaver\n",
    "• dolphin\n",
    "• otter\n",
    "• seal\n",
    "• whale\n",
    "2. fish:\n",
    "• catfish\n",
    "• ordinary fish (excluding trout and catfish and salmon)\n",
    "• ray\n",
    "• shark\n",
    "• trout\n",
    "3. flowers:\n",
    "• orchids\n",
    "• poppies\n",
    "• rose\n",
    "• sunflowers\n",
    "• tulips\n",
    "4. food containers:\n",
    "• bottles\n",
    "• bowls\n",
    "• cans\n",
    "• cups, mugs, glasses\n",
    "• plates\n",
    "5. fruit and vegetables:\n",
    "• apples\n",
    "• mushrooms\n",
    "• oranges\n",
    "• pears\n",
    "• sweet peppers\n",
    "6. household electrical devices:\n",
    "• clock\n",
    "• computer keyboard\n",
    "• lamp\n",
    "• telephone\n",
    "• television\n",
    "7. household furniture:\n",
    "• bed\n",
    "• chair\n",
    "• couch\n",
    "• table\n",
    "• wardrobe\n",
    "8. insects:\n",
    "• bee\n",
    "• beetle\n",
    "• butterfly\n",
    "• caterpillar\n",
    "• cockroach\n",
    "9. large carnivores:\n",
    "• bear\n",
    "• leopard\n",
    "• lion\n",
    "• tiger\n",
    "• wolf\n",
    "10. large man-made outdoor things:\n",
    "• bridge\n",
    "• castle\n",
    "• house\n",
    "• road\n",
    "• skyscraper\n",
    "11. large natural outdoor scenes:\n",
    "• cloud\n",
    "• forest\n",
    "• mountain\n",
    "• plain\n",
    "• sea\n",
    "12. large omnivores/herbivores:\n",
    "• camel\n",
    "• cattle\n",
    "• chimpanzee\n",
    "• elephant\n",
    "• kangaroo\n",
    "13. mid-size mammals:\n",
    "• fox\n",
    "• porcupine\n",
    "• possum\n",
    "• raccoon\n",
    "• skunk\n",
    "14. non-insect invertebrates:\n",
    "• crab\n",
    "• lobster\n",
    "• snail\n",
    "• spider\n",
    "• worm\n",
    "15. people:\n",
    "• baby\n",
    "• boy\n",
    "• girl\n",
    "• man\n",
    "• woman\n",
    "16. reptiles:\n",
    "• crocodile\n",
    "• dinosaur\n",
    "• lizard\n",
    "• snake\n",
    "• turtle\n",
    "17. small mammals:\n",
    "• hamster\n",
    "• mouse\n",
    "• rabbit\n",
    "• shrew\n",
    "• squirrel\n",
    "18. trees:\n",
    "• maple\n",
    "• oak\n",
    "• palm\n",
    "• pine\n",
    "• willow\n",
    "19. vehicles 1:\n",
    "• bicycle\n",
    "• bus\n",
    "• motorcycle\n",
    "• pickup truck\n",
    "• train\n",
    "20. vehicles 2:\n",
    "• lawn-mower\n",
    "• rocket\n",
    "• streetcar\n",
    "• tank\n",
    "• tractor"
   ]
  },
  {
   "cell_type": "markdown",
   "metadata": {},
   "source": [
    "## 3. Collection Process"
   ]
  },
  {
   "cell_type": "markdown",
   "metadata": {},
   "source": [
    "- Collection pipeline:\n",
    "\n",
    "The authors selected 7 independent image search engines (Altavista, Ask, Flickr, Cydral, Google, Picsearch and Webshots) and automatically downloaded all the images provided by each engine for all 75,846 non-abstract keywords. "
   ]
  },
  {
   "cell_type": "markdown",
   "metadata": {},
   "source": [
    "- Timeline:\n",
    "Data was collected over the course of 8 months in 2017/2018."
   ]
  },
  {
   "cell_type": "markdown",
   "metadata": {},
   "source": [
    "- Ethical reviews/concerns:\n",
    "\n",
    "Unknown. Also not specified whether individuals were asked about using their pictures or whether a data protection analysis was conducted."
   ]
  },
  {
   "cell_type": "markdown",
   "metadata": {},
   "source": [
    "## 4. Uses and Distribution"
   ]
  },
  {
   "cell_type": "markdown",
   "metadata": {},
   "source": [
    "Data is publicly available in several websites (such as https://www.cs.toronto.edu/~kriz/cifar.html) and its use has not been specified."
   ]
  },
  {
   "cell_type": "markdown",
   "metadata": {},
   "source": [
    "It is unclear if the dataset is being maintained."
   ]
  },
  {
   "cell_type": "markdown",
   "metadata": {},
   "source": []
  }
 ],
 "metadata": {
  "language_info": {
   "name": "python"
  },
  "orig_nbformat": 4
 },
 "nbformat": 4,
 "nbformat_minor": 2
}
